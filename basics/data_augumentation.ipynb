{
 "cells": [
  {
   "cell_type": "code",
   "id": "initial_id",
   "metadata": {
    "collapsed": true,
    "ExecuteTime": {
     "end_time": "2024-07-27T19:07:52.614869Z",
     "start_time": "2024-07-27T19:07:12.256384Z"
    }
   },
   "source": [
    "import os\n",
    "from skimage import io\n",
    "import torch\n",
    "import pandas as pd\n",
    "from torch.utils.data import Dataset\n",
    "import torchvision\n",
    "import torchvision.transforms as transforms\n",
    "from torchvision.utils import save_image"
   ],
   "outputs": [],
   "execution_count": 1
  },
  {
   "metadata": {
    "ExecuteTime": {
     "end_time": "2024-07-27T19:08:07.812318Z",
     "start_time": "2024-07-27T19:08:07.806609Z"
    }
   },
   "cell_type": "code",
   "source": "device = torch.device(\"gpu:0\" if torch.cuda.is_available() else \"cpu:0\")",
   "id": "483d6a15f036bc7e",
   "outputs": [],
   "execution_count": 2
  },
  {
   "metadata": {
    "ExecuteTime": {
     "end_time": "2024-07-27T19:08:08.749813Z",
     "start_time": "2024-07-27T19:08:08.742506Z"
    }
   },
   "cell_type": "code",
   "source": [
    "# custom dataset\n",
    "class CustomDataset(Dataset):\n",
    "    def __init__(self, csv_file:str, root_dir:str, transform:torchvision.transforms=None) -> None:\n",
    "        super(CustomDataset, self).__init__()\n",
    "        self.annotations = pd.read_csv(csv_file)\n",
    "        self.root_dir = root_dir\n",
    "        self.transforms = transform\n",
    "        \n",
    "    def __len__(self):\n",
    "        return len(self.annotations)\n",
    "    \n",
    "    def __getitem__(self, index):\n",
    "        img_path = os.path.join(self.root_dir, self.annotations.iloc[index, 0])\n",
    "        image = io.imread(img_path)\n",
    "        y_label = torch.tensor(int(self.annotations.iloc[index, 1]))\n",
    "        \n",
    "        if self.transforms:\n",
    "            image = self.transforms(image)\n",
    "        \n",
    "        return image, y_label\n",
    "    "
   ],
   "id": "f265c46de5383aa7",
   "outputs": [],
   "execution_count": 3
  },
  {
   "metadata": {
    "ExecuteTime": {
     "end_time": "2024-07-27T19:08:09.774768Z",
     "start_time": "2024-07-27T19:08:09.766867Z"
    }
   },
   "cell_type": "code",
   "source": [
    "my_transforms = transforms.Compose([\n",
    "    transforms.ToPILImage(), # convert to PIL image\n",
    "    transforms.Resize((256, 256)), # resize the image\n",
    "    transforms.RandomCrop((224,224)), # crop the image to the size specified\n",
    "    transforms.RandomRotation(degrees=45), # rotate by a degree\n",
    "    transforms.ColorJitter(brightness=0.5), # add a coloring of 0.5 to the image\n",
    "    transforms.RandomHorizontalFlip(p=0.5), # Flip the image horizontal\n",
    "    transforms.RandomVerticalFlip(p=0.05), # Flib the image vertical with probability\n",
    "    transforms.RandomGrayscale(p=0.2), # Add GrayScale to the image\n",
    "    transforms.ToTensor(), # convert the image to tensor\n",
    "    # Normalize the image with the mean and std of the image array (Note: This has to be know ahead of time for the images in use)\n",
    "    transforms.Normalize(mean=[0.0,0.0,0.0], std=[1.0,1.0,1.0]) # (value - mean) / std # Note: This does nothing \n",
    "])"
   ],
   "id": "80ec1bbf86f382e5",
   "outputs": [],
   "execution_count": 4
  },
  {
   "metadata": {
    "ExecuteTime": {
     "end_time": "2024-07-27T19:08:11.936334Z",
     "start_time": "2024-07-27T19:08:11.921435Z"
    }
   },
   "cell_type": "code",
   "source": [
    "dataset = CustomDataset(\n",
    "    csv_file='../dataset/cats_dogs.csv',\n",
    "    root_dir='../dataset/cats_dogs/',\n",
    "    transform=my_transforms\n",
    ")"
   ],
   "id": "26cf3b23c997dd3a",
   "outputs": [],
   "execution_count": 5
  },
  {
   "metadata": {
    "ExecuteTime": {
     "end_time": "2024-07-27T19:08:19.681972Z",
     "start_time": "2024-07-27T19:08:19.678778Z"
    }
   },
   "cell_type": "code",
   "source": "augmented_data_dir = \"../dataset/augmented_data\"",
   "id": "e11005424e80a931",
   "outputs": [],
   "execution_count": 6
  },
  {
   "metadata": {
    "ExecuteTime": {
     "end_time": "2024-07-27T19:08:41.947196Z",
     "start_time": "2024-07-27T19:08:41.939589Z"
    }
   },
   "cell_type": "code",
   "source": [
    "img_num = 0\n",
    "for _ in range(10):\n",
    "    for img, label in dataset:\n",
    "        save_image(img,f\"{augmented_data_dir}/img{img_num}.png\")\n",
    "        img_num += 1\n",
    "        \n",
    "print(\"done\")"
   ],
   "id": "e7d5f39f1837420a",
   "outputs": [
    {
     "name": "stdout",
     "output_type": "stream",
     "text": [
      "done\n"
     ]
    }
   ],
   "execution_count": 8
  },
  {
   "metadata": {},
   "cell_type": "code",
   "outputs": [],
   "execution_count": null,
   "source": "",
   "id": "52ed8a10fb4ad0ac"
  }
 ],
 "metadata": {
  "kernelspec": {
   "display_name": "Python 3",
   "language": "python",
   "name": "python3"
  },
  "language_info": {
   "codemirror_mode": {
    "name": "ipython",
    "version": 2
   },
   "file_extension": ".py",
   "mimetype": "text/x-python",
   "name": "python",
   "nbconvert_exporter": "python",
   "pygments_lexer": "ipython2",
   "version": "2.7.6"
  }
 },
 "nbformat": 4,
 "nbformat_minor": 5
}
