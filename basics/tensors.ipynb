{
 "cells": [
  {
   "cell_type": "code",
   "id": "initial_id",
   "metadata": {
    "collapsed": true,
    "ExecuteTime": {
     "end_time": "2024-07-20T14:57:12.589196Z",
     "start_time": "2024-07-20T14:56:51.555366Z"
    }
   },
   "source": "import torch",
   "outputs": [],
   "execution_count": 1
  },
  {
   "metadata": {
    "ExecuteTime": {
     "end_time": "2024-07-20T14:58:17.034178Z",
     "start_time": "2024-07-20T14:58:17.025357Z"
    }
   },
   "cell_type": "code",
   "source": [
    "device = torch.device(\"cuda:0\" if torch.cuda.is_available() else \"cpu\")\n",
    "device"
   ],
   "id": "ac82f398de1be8c3",
   "outputs": [
    {
     "data": {
      "text/plain": [
       "device(type='cpu')"
      ]
     },
     "execution_count": 4,
     "metadata": {},
     "output_type": "execute_result"
    }
   ],
   "execution_count": 4
  },
  {
   "metadata": {},
   "cell_type": "markdown",
   "source": [
    "# Tensors\n",
    "A tensor is generalized matrix. It is a multidimensional array. A tensor can be 0-dimensional, 1-dimensional, 2-dimensional, 3-dimensional, etc. The number of dimensions is the rank of the tensor. A 0-dimensional tensor is a scalar, a 1-dimensional tensor is a vector, a 2-dimensional tensor is a matrix, and a 3-dimensional tensor is a cube, etc."
   ],
   "id": "94415db5c98fc779"
  },
  {
   "metadata": {
    "ExecuteTime": {
     "end_time": "2024-07-20T14:59:34.924325Z",
     "start_time": "2024-07-20T14:59:34.911837Z"
    }
   },
   "cell_type": "code",
   "source": [
    "x = torch.tensor([[1,2,3,4],[5,6,7,8]])\n",
    "x"
   ],
   "id": "718ca815cdd32f47",
   "outputs": [
    {
     "data": {
      "text/plain": [
       "tensor([[1, 2, 3, 4],\n",
       "        [5, 6, 7, 8]])"
      ]
     },
     "execution_count": 5,
     "metadata": {},
     "output_type": "execute_result"
    }
   ],
   "execution_count": 5
  },
  {
   "metadata": {
    "ExecuteTime": {
     "end_time": "2024-07-20T15:33:56.393637Z",
     "start_time": "2024-07-20T15:33:56.382490Z"
    }
   },
   "cell_type": "code",
   "source": [
    "# set device and dtype\n",
    "x = torch.tensor(\n",
    "    [[1,2,3,4],[5,6,7,8]], \n",
    "    dtype=torch.float32, \n",
    "    device=device, \n",
    "    requires_grad=True # for autograd\n",
    ")\n",
    "x"
   ],
   "id": "3af983beac1de392",
   "outputs": [
    {
     "data": {
      "text/plain": [
       "tensor([[1., 2., 3., 4.],\n",
       "        [5., 6., 7., 8.]], requires_grad=True)"
      ]
     },
     "execution_count": 7,
     "metadata": {},
     "output_type": "execute_result"
    }
   ],
   "execution_count": 7
  },
  {
   "metadata": {
    "ExecuteTime": {
     "end_time": "2024-07-20T15:36:07.603581Z",
     "start_time": "2024-07-20T15:36:07.594672Z"
    }
   },
   "cell_type": "code",
   "source": [
    "# tensor properties\n",
    "print(x.shape)\n",
    "print(x.size())\n",
    "print(x.dtype)\n",
    "print(x.device)\n",
    "print(x.requires_grad)"
   ],
   "id": "84964767768604c9",
   "outputs": [
    {
     "name": "stdout",
     "output_type": "stream",
     "text": [
      "torch.Size([2, 4])\n",
      "torch.Size([2, 4])\n",
      "torch.float32\n",
      "cpu\n",
      "True\n"
     ]
    }
   ],
   "execution_count": 8
  },
  {
   "metadata": {
    "ExecuteTime": {
     "end_time": "2024-07-20T15:37:39.198085Z",
     "start_time": "2024-07-20T15:37:39.187760Z"
    }
   },
   "cell_type": "code",
   "source": [
    "# other initialization methods\n",
    "x = torch.empty(size=(3,3)) # uninitialized matrix\n",
    "x"
   ],
   "id": "b60717fec636ba8f",
   "outputs": [
    {
     "data": {
      "text/plain": [
       "tensor([[-1.0582e-25,  1.4041e-42,  0.0000e+00],\n",
       "        [ 0.0000e+00,  0.0000e+00,  0.0000e+00],\n",
       "        [ 0.0000e+00,  0.0000e+00,  0.0000e+00]])"
      ]
     },
     "execution_count": 9,
     "metadata": {},
     "output_type": "execute_result"
    }
   ],
   "execution_count": 9
  },
  {
   "metadata": {
    "ExecuteTime": {
     "end_time": "2024-07-20T15:37:54.685153Z",
     "start_time": "2024-07-20T15:37:54.678572Z"
    }
   },
   "cell_type": "code",
   "source": [
    "x = torch.zeros(size=(3,3)) # zeros matrix\n",
    "x"
   ],
   "id": "51f3960e775d9265",
   "outputs": [
    {
     "data": {
      "text/plain": [
       "tensor([[0., 0., 0.],\n",
       "        [0., 0., 0.],\n",
       "        [0., 0., 0.]])"
      ]
     },
     "execution_count": 11,
     "metadata": {},
     "output_type": "execute_result"
    }
   ],
   "execution_count": 11
  },
  {
   "metadata": {
    "ExecuteTime": {
     "end_time": "2024-07-20T15:38:03.762892Z",
     "start_time": "2024-07-20T15:38:03.754343Z"
    }
   },
   "cell_type": "code",
   "source": [
    "x = torch.ones(size=(3,3)) # ones matrix\n",
    "x"
   ],
   "id": "ba8dfac2fa1e8a1b",
   "outputs": [
    {
     "data": {
      "text/plain": [
       "tensor([[1., 1., 1.],\n",
       "        [1., 1., 1.],\n",
       "        [1., 1., 1.]])"
      ]
     },
     "execution_count": 12,
     "metadata": {},
     "output_type": "execute_result"
    }
   ],
   "execution_count": 12
  },
  {
   "metadata": {
    "ExecuteTime": {
     "end_time": "2024-07-20T15:38:28.124726Z",
     "start_time": "2024-07-20T15:38:28.116003Z"
    }
   },
   "cell_type": "code",
   "source": [
    "x = torch.rand(size=(3,3)) # uniform random\n",
    "x"
   ],
   "id": "986f404ddde58c3a",
   "outputs": [
    {
     "data": {
      "text/plain": [
       "tensor([[0.3221, 0.7170, 0.3253],\n",
       "        [0.2376, 0.0088, 0.3216],\n",
       "        [0.5780, 0.2947, 0.9424]])"
      ]
     },
     "execution_count": 13,
     "metadata": {},
     "output_type": "execute_result"
    }
   ],
   "execution_count": 13
  },
  {
   "metadata": {
    "ExecuteTime": {
     "end_time": "2024-07-20T15:38:45.341276Z",
     "start_time": "2024-07-20T15:38:45.332210Z"
    }
   },
   "cell_type": "code",
   "source": [
    "x = torch.eye(5,5) # identity matrix\n",
    "x"
   ],
   "id": "dff29480c7144bdf",
   "outputs": [
    {
     "data": {
      "text/plain": [
       "tensor([[1., 0., 0., 0., 0.],\n",
       "        [0., 1., 0., 0., 0.],\n",
       "        [0., 0., 1., 0., 0.],\n",
       "        [0., 0., 0., 1., 0.],\n",
       "        [0., 0., 0., 0., 1.]])"
      ]
     },
     "execution_count": 15,
     "metadata": {},
     "output_type": "execute_result"
    }
   ],
   "execution_count": 15
  },
  {
   "metadata": {
    "ExecuteTime": {
     "end_time": "2024-07-20T15:40:22.020182Z",
     "start_time": "2024-07-20T15:40:22.013417Z"
    }
   },
   "cell_type": "code",
   "source": [
    "# arrange \n",
    "x = torch.arange(start=0, end=5, step=1) # 1D tensor\n",
    "x"
   ],
   "id": "9717b0c4c7923c98",
   "outputs": [
    {
     "data": {
      "text/plain": [
       "tensor([0, 1, 2, 3, 4])"
      ]
     },
     "execution_count": 16,
     "metadata": {},
     "output_type": "execute_result"
    }
   ],
   "execution_count": 16
  },
  {
   "metadata": {
    "ExecuteTime": {
     "end_time": "2024-07-20T15:41:10.925374Z",
     "start_time": "2024-07-20T15:41:10.918054Z"
    }
   },
   "cell_type": "code",
   "source": [
    "# lin space\n",
    "x = torch.linspace(start=0.1, end=1, steps=10) # 1D tensor\n",
    "x"
   ],
   "id": "3b6ffb2f5ceacaa7",
   "outputs": [
    {
     "data": {
      "text/plain": [
       "tensor([0.1000, 0.2000, 0.3000, 0.4000, 0.5000, 0.6000, 0.7000, 0.8000, 0.9000,\n",
       "        1.0000])"
      ]
     },
     "execution_count": 17,
     "metadata": {},
     "output_type": "execute_result"
    }
   ],
   "execution_count": 17
  },
  {
   "metadata": {
    "ExecuteTime": {
     "end_time": "2024-07-20T15:42:06.049521Z",
     "start_time": "2024-07-20T15:42:06.043076Z"
    }
   },
   "cell_type": "code",
   "source": [
    "x = torch.empty(size=(1,5)).normal_(mean=0, std=1) # normal distribution\n",
    "x"
   ],
   "id": "7b486595fce1e48b",
   "outputs": [
    {
     "data": {
      "text/plain": [
       "tensor([[-0.9067,  1.0137,  0.8444,  0.1775, -0.3935]])"
      ]
     },
     "execution_count": 18,
     "metadata": {},
     "output_type": "execute_result"
    }
   ],
   "execution_count": 18
  },
  {
   "metadata": {
    "ExecuteTime": {
     "end_time": "2024-07-20T15:42:23.683528Z",
     "start_time": "2024-07-20T15:42:23.675116Z"
    }
   },
   "cell_type": "code",
   "source": [
    "x = torch.empty(size=(1,5)).uniform_(0,1) # uniform distribution\n",
    "x"
   ],
   "id": "274c5a583969c41d",
   "outputs": [
    {
     "data": {
      "text/plain": [
       "tensor([[0.3831, 0.9514, 0.8812, 0.6539, 0.2834]])"
      ]
     },
     "execution_count": 19,
     "metadata": {},
     "output_type": "execute_result"
    }
   ],
   "execution_count": 19
  },
  {
   "metadata": {
    "ExecuteTime": {
     "end_time": "2024-07-20T15:42:50.035669Z",
     "start_time": "2024-07-20T15:42:50.026642Z"
    }
   },
   "cell_type": "code",
   "source": [
    "x = torch.diag(torch.ones(3)) # diagonal matrix (3X3) similar to eye\n",
    "x"
   ],
   "id": "7f14d680b586bc70",
   "outputs": [
    {
     "data": {
      "text/plain": [
       "tensor([[1., 0., 0.],\n",
       "        [0., 1., 0.],\n",
       "        [0., 0., 1.]])"
      ]
     },
     "execution_count": 20,
     "metadata": {},
     "output_type": "execute_result"
    }
   ],
   "execution_count": 20
  },
  {
   "metadata": {
    "ExecuteTime": {
     "end_time": "2024-07-20T15:44:50.958503Z",
     "start_time": "2024-07-20T15:44:50.949840Z"
    }
   },
   "cell_type": "code",
   "source": [
    "# initialize and convert to tensor\n",
    "tensor = torch.arange(4)\n",
    "print(tensor.bool())\n",
    "print(tensor.short())\n",
    "print(tensor.long())\n",
    "print(tensor.half())"
   ],
   "id": "a38ab8dc3fb6b09f",
   "outputs": [
    {
     "name": "stdout",
     "output_type": "stream",
     "text": [
      "tensor([False,  True,  True,  True])\n",
      "tensor([0, 1, 2, 3], dtype=torch.int16)\n"
     ]
    }
   ],
   "execution_count": 22
  },
  {
   "metadata": {},
   "cell_type": "markdown",
   "source": "# Tensor Mathematics",
   "id": "e21b791ed949e8a5"
  },
  {
   "metadata": {
    "ExecuteTime": {
     "end_time": "2024-07-20T15:51:34.661786Z",
     "start_time": "2024-07-20T15:51:34.656751Z"
    }
   },
   "cell_type": "code",
   "source": [
    "x = torch.tensor([1,2,3])\n",
    "y = torch.tensor([9,8,7])\n"
   ],
   "id": "7314486ce6162efe",
   "outputs": [],
   "execution_count": 28
  },
  {
   "metadata": {
    "ExecuteTime": {
     "end_time": "2024-07-20T15:51:54.030194Z",
     "start_time": "2024-07-20T15:51:54.020422Z"
    }
   },
   "cell_type": "code",
   "source": [
    "# addition\n",
    "sum_1 = x + y\n",
    "sum_1"
   ],
   "id": "3c2400e38d1d98c1",
   "outputs": [
    {
     "data": {
      "text/plain": [
       "tensor([10, 10, 10])"
      ]
     },
     "execution_count": 29,
     "metadata": {},
     "output_type": "execute_result"
    }
   ],
   "execution_count": 29
  },
  {
   "metadata": {
    "ExecuteTime": {
     "end_time": "2024-07-20T15:52:26.485566Z",
     "start_time": "2024-07-20T15:52:26.477886Z"
    }
   },
   "cell_type": "code",
   "source": [
    "sum_2 = torch.add(x, y)\n",
    "sum_2"
   ],
   "id": "499a1d0a398d4478",
   "outputs": [
    {
     "data": {
      "text/plain": [
       "tensor([10, 10, 10])"
      ]
     },
     "execution_count": 30,
     "metadata": {},
     "output_type": "execute_result"
    }
   ],
   "execution_count": 30
  },
  {
   "metadata": {
    "ExecuteTime": {
     "end_time": "2024-07-20T15:52:58.877439Z",
     "start_time": "2024-07-20T15:52:58.870236Z"
    }
   },
   "cell_type": "code",
   "source": [
    "# subtraction\n",
    "sub_1 = x - y\n",
    "sub_1"
   ],
   "id": "f022326547cd909",
   "outputs": [
    {
     "data": {
      "text/plain": [
       "tensor([-8, -6, -4])"
      ]
     },
     "execution_count": 31,
     "metadata": {},
     "output_type": "execute_result"
    }
   ],
   "execution_count": 31
  },
  {
   "metadata": {
    "ExecuteTime": {
     "end_time": "2024-07-20T15:53:30.467764Z",
     "start_time": "2024-07-20T15:53:30.458591Z"
    }
   },
   "cell_type": "code",
   "source": [
    "# division\n",
    "div_1 = torch.true_divide(x, y)\n",
    "div_1"
   ],
   "id": "25f84c3737162c9f",
   "outputs": [
    {
     "data": {
      "text/plain": [
       "tensor([0.1111, 0.2500, 0.4286])"
      ]
     },
     "execution_count": 32,
     "metadata": {},
     "output_type": "execute_result"
    }
   ],
   "execution_count": 32
  },
  {
   "metadata": {
    "ExecuteTime": {
     "end_time": "2024-07-20T19:46:36.613162Z",
     "start_time": "2024-07-20T19:46:36.530705Z"
    }
   },
   "cell_type": "code",
   "source": [
    "# inplace operation\n",
    "t = torch.zeros(3)\n",
    "t.add_(x)\n"
   ],
   "id": "d2a5252653b03d82",
   "outputs": [
    {
     "data": {
      "text/plain": [
       "tensor([1., 2., 3.])"
      ]
     },
     "execution_count": 33,
     "metadata": {},
     "output_type": "execute_result"
    }
   ],
   "execution_count": 33
  },
  {
   "metadata": {
    "ExecuteTime": {
     "end_time": "2024-07-20T19:47:19.324491Z",
     "start_time": "2024-07-20T19:47:18.375152Z"
    }
   },
   "cell_type": "code",
   "source": [
    "# exponentiation\n",
    "z = x.pow(2)\n",
    "z"
   ],
   "id": "d57a0d27979d5e8e",
   "outputs": [
    {
     "data": {
      "text/plain": [
       "tensor([1, 4, 9])"
      ]
     },
     "execution_count": 34,
     "metadata": {},
     "output_type": "execute_result"
    }
   ],
   "execution_count": 34
  },
  {
   "metadata": {
    "ExecuteTime": {
     "end_time": "2024-07-20T19:47:39.081809Z",
     "start_time": "2024-07-20T19:47:39.071949Z"
    }
   },
   "cell_type": "code",
   "source": [
    "z = x ** 2 # another way of exponentiation\n",
    "z"
   ],
   "id": "fb2748cd0773f4c8",
   "outputs": [
    {
     "data": {
      "text/plain": [
       "tensor([1, 4, 9])"
      ]
     },
     "execution_count": 35,
     "metadata": {},
     "output_type": "execute_result"
    }
   ],
   "execution_count": 35
  },
  {
   "metadata": {
    "ExecuteTime": {
     "end_time": "2024-07-20T19:47:59.808654Z",
     "start_time": "2024-07-20T19:47:59.725285Z"
    }
   },
   "cell_type": "code",
   "source": [
    "# simple comparison\n",
    "z = x > 0\n",
    "z"
   ],
   "id": "4a6a0f37980da311",
   "outputs": [
    {
     "data": {
      "text/plain": [
       "tensor([True, True, True])"
      ]
     },
     "execution_count": 36,
     "metadata": {},
     "output_type": "execute_result"
    }
   ],
   "execution_count": 36
  },
  {
   "metadata": {
    "ExecuteTime": {
     "end_time": "2024-07-20T19:48:08.432137Z",
     "start_time": "2024-07-20T19:48:08.417885Z"
    }
   },
   "cell_type": "code",
   "source": [
    "z = x < 0\n",
    "z"
   ],
   "id": "b282b8a8cd7d1ba1",
   "outputs": [
    {
     "data": {
      "text/plain": [
       "tensor([False, False, False])"
      ]
     },
     "execution_count": 37,
     "metadata": {},
     "output_type": "execute_result"
    }
   ],
   "execution_count": 37
  },
  {
   "metadata": {
    "ExecuteTime": {
     "end_time": "2024-07-20T19:49:05.738444Z",
     "start_time": "2024-07-20T19:49:05.437346Z"
    }
   },
   "cell_type": "code",
   "source": [
    "# matrix multiplication\n",
    "x1 = torch.rand((2,5))\n",
    "x2 = torch.rand((5,3))\n",
    "x3 = torch.mm(x1, x2)\n",
    "x3"
   ],
   "id": "23c5c15b98267b75",
   "outputs": [
    {
     "data": {
      "text/plain": [
       "tensor([[2.7018, 1.4749, 1.5037],\n",
       "        [2.1308, 0.9702, 1.1690]])"
      ]
     },
     "execution_count": 38,
     "metadata": {},
     "output_type": "execute_result"
    }
   ],
   "execution_count": 38
  },
  {
   "metadata": {
    "ExecuteTime": {
     "end_time": "2024-07-20T19:49:26.252577Z",
     "start_time": "2024-07-20T19:49:26.244821Z"
    }
   },
   "cell_type": "code",
   "source": [
    "x4 = x1.mm(x2) # another way of multiplying\n",
    "x4"
   ],
   "id": "542db3891964b425",
   "outputs": [
    {
     "data": {
      "text/plain": [
       "tensor([[2.7018, 1.4749, 1.5037],\n",
       "        [2.1308, 0.9702, 1.1690]])"
      ]
     },
     "execution_count": 39,
     "metadata": {},
     "output_type": "execute_result"
    }
   ],
   "execution_count": 39
  },
  {
   "metadata": {
    "ExecuteTime": {
     "end_time": "2024-07-20T20:24:17.311894Z",
     "start_time": "2024-07-20T20:24:17.300856Z"
    }
   },
   "cell_type": "code",
   "source": [
    "# matrix exponentiation\n",
    "matrix_exp = torch.rand(5,5)\n",
    "matrix_exp.matrix_power(3)\n",
    "matrix_exp.shape"
   ],
   "id": "fe45cabc2eecc245",
   "outputs": [
    {
     "data": {
      "text/plain": [
       "torch.Size([5, 5])"
      ]
     },
     "execution_count": 98,
     "metadata": {},
     "output_type": "execute_result"
    }
   ],
   "execution_count": 98
  },
  {
   "metadata": {
    "ExecuteTime": {
     "end_time": "2024-07-20T19:51:03.392037Z",
     "start_time": "2024-07-20T19:51:02.980904Z"
    }
   },
   "cell_type": "code",
   "source": [
    "# elementwise multiplication\n",
    "z = x * y \n",
    "z"
   ],
   "id": "bbf9a33ad9d062de",
   "outputs": [
    {
     "data": {
      "text/plain": [
       "tensor([ 9, 16, 21])"
      ]
     },
     "execution_count": 41,
     "metadata": {},
     "output_type": "execute_result"
    }
   ],
   "execution_count": 41
  },
  {
   "metadata": {
    "ExecuteTime": {
     "end_time": "2024-07-20T19:51:40.936476Z",
     "start_time": "2024-07-20T19:51:40.710820Z"
    }
   },
   "cell_type": "code",
   "source": [
    "# dot product\n",
    "z = torch.dot(x,y)\n",
    "z"
   ],
   "id": "7cd4e43821bc4683",
   "outputs": [
    {
     "data": {
      "text/plain": [
       "tensor(46)"
      ]
     },
     "execution_count": 42,
     "metadata": {},
     "output_type": "execute_result"
    }
   ],
   "execution_count": 42
  },
  {
   "metadata": {
    "ExecuteTime": {
     "end_time": "2024-07-20T20:24:11.201477Z",
     "start_time": "2024-07-20T20:24:11.193733Z"
    }
   },
   "cell_type": "code",
   "source": [
    "# batch matrix multiplication\n",
    "batch = 32\n",
    "n = 10\n",
    "m = 20\n",
    "p = 30\n",
    "\n",
    "tensor1 = torch.rand((batch, n, m))\n",
    "tensor2 = torch.rand((batch, m, p))\n",
    "out_bmm = torch.bmm(tensor1, tensor2) # (batch, n, p)\n",
    "out_bmm.shape"
   ],
   "id": "98de477e92c19156",
   "outputs": [
    {
     "data": {
      "text/plain": [
       "torch.Size([32, 10, 30])"
      ]
     },
     "execution_count": 97,
     "metadata": {},
     "output_type": "execute_result"
    }
   ],
   "execution_count": 97
  },
  {
   "metadata": {
    "ExecuteTime": {
     "end_time": "2024-07-20T19:55:27.013577Z",
     "start_time": "2024-07-20T19:55:26.997251Z"
    }
   },
   "cell_type": "code",
   "source": [
    "# example of broadcasting\n",
    "x1 = torch.rand((5,5))\n",
    "x2 = torch.rand((1,5)) # this vector would be expanded automatically to match the other one for the operation below\n",
    "\n",
    "z = x1 - x2\n",
    "z"
   ],
   "id": "1ec39811cd802156",
   "outputs": [
    {
     "data": {
      "text/plain": [
       "tensor([[ 0.1202, -0.8134,  0.0031,  0.3734, -0.0014],\n",
       "        [ 0.0179,  0.0891, -0.1913,  0.2542,  0.8200],\n",
       "        [-0.0159, -0.7583,  0.4559,  0.2402,  0.4899],\n",
       "        [-0.1687, -0.2010, -0.1598, -0.0447, -0.1392],\n",
       "        [ 0.2269, -0.6486, -0.1390, -0.0822,  0.0889]])"
      ]
     },
     "execution_count": 45,
     "metadata": {},
     "output_type": "execute_result"
    }
   ],
   "execution_count": 45
  },
  {
   "metadata": {
    "ExecuteTime": {
     "end_time": "2024-07-20T19:55:31.892481Z",
     "start_time": "2024-07-20T19:55:31.854782Z"
    }
   },
   "cell_type": "code",
   "source": [
    "z = x1 ** x2\n",
    "z"
   ],
   "id": "cfb1772802469a12",
   "outputs": [
    {
     "data": {
      "text/plain": [
       "tensor([[0.7801, 0.0269, 0.6948, 0.9417, 0.7555],\n",
       "        [0.7196, 0.9293, 0.5244, 0.8743, 0.9947],\n",
       "        [0.6957, 0.1080, 0.9266, 0.8661, 0.9365],\n",
       "        [0.5339, 0.6782, 0.5591, 0.6786, 0.4639],\n",
       "        [0.8311, 0.2396, 0.5799, 0.6501, 0.8107]])"
      ]
     },
     "execution_count": 46,
     "metadata": {},
     "output_type": "execute_result"
    }
   ],
   "execution_count": 46
  },
  {
   "metadata": {
    "ExecuteTime": {
     "end_time": "2024-07-20T19:56:22.700194Z",
     "start_time": "2024-07-20T19:56:22.692313Z"
    }
   },
   "cell_type": "code",
   "source": [
    "# other useful operations\n",
    "sum_x = torch.sum(x, dim=0)\n",
    "sum_x"
   ],
   "id": "e3e1b6df3a50997d",
   "outputs": [
    {
     "data": {
      "text/plain": [
       "tensor(6)"
      ]
     },
     "execution_count": 48,
     "metadata": {},
     "output_type": "execute_result"
    }
   ],
   "execution_count": 48
  },
  {
   "metadata": {
    "ExecuteTime": {
     "end_time": "2024-07-20T19:56:47.700182Z",
     "start_time": "2024-07-20T19:56:46.673878Z"
    }
   },
   "cell_type": "code",
   "source": [
    "values, indices = torch.max(x, dim=0)\n",
    "values, indices"
   ],
   "id": "893b23375a9ffc9d",
   "outputs": [
    {
     "data": {
      "text/plain": [
       "(tensor(3), tensor(2))"
      ]
     },
     "execution_count": 49,
     "metadata": {},
     "output_type": "execute_result"
    }
   ],
   "execution_count": 49
  },
  {
   "metadata": {
    "ExecuteTime": {
     "end_time": "2024-07-20T20:03:19.250210Z",
     "start_time": "2024-07-20T20:03:19.239173Z"
    }
   },
   "cell_type": "code",
   "source": [
    "values, indices = x.max(dim=0)\n",
    "values, indices"
   ],
   "id": "1c31ff991ca102f1",
   "outputs": [
    {
     "data": {
      "text/plain": [
       "(tensor(True), tensor(0))"
      ]
     },
     "execution_count": 62,
     "metadata": {},
     "output_type": "execute_result"
    }
   ],
   "execution_count": 62
  },
  {
   "metadata": {
    "ExecuteTime": {
     "end_time": "2024-07-20T19:56:55.642386Z",
     "start_time": "2024-07-20T19:56:54.239098Z"
    }
   },
   "cell_type": "code",
   "source": [
    "values, indices = torch.min(x, dim=0)\n",
    "values, indices"
   ],
   "id": "638e30f438275019",
   "outputs": [
    {
     "data": {
      "text/plain": [
       "(tensor(1), tensor(0))"
      ]
     },
     "execution_count": 50,
     "metadata": {},
     "output_type": "execute_result"
    }
   ],
   "execution_count": 50
  },
  {
   "metadata": {
    "ExecuteTime": {
     "end_time": "2024-07-20T19:57:18.130183Z",
     "start_time": "2024-07-20T19:57:17.893160Z"
    }
   },
   "cell_type": "code",
   "source": [
    "absolute_val = torch.abs(x)\n",
    "absolute_val"
   ],
   "id": "875aaf9f2325cfde",
   "outputs": [
    {
     "data": {
      "text/plain": [
       "tensor([1, 2, 3])"
      ]
     },
     "execution_count": 51,
     "metadata": {},
     "output_type": "execute_result"
    }
   ],
   "execution_count": 51
  },
  {
   "metadata": {
    "ExecuteTime": {
     "end_time": "2024-07-20T19:57:43.272938Z",
     "start_time": "2024-07-20T19:57:42.149900Z"
    }
   },
   "cell_type": "code",
   "source": [
    "arg_max = torch.argmax(x)\n",
    "arg_max"
   ],
   "id": "8d582f18bb9bb983",
   "outputs": [
    {
     "data": {
      "text/plain": [
       "tensor(2)"
      ]
     },
     "execution_count": 52,
     "metadata": {},
     "output_type": "execute_result"
    }
   ],
   "execution_count": 52
  },
  {
   "metadata": {
    "ExecuteTime": {
     "end_time": "2024-07-20T19:57:56.307504Z",
     "start_time": "2024-07-20T19:57:56.113269Z"
    }
   },
   "cell_type": "code",
   "source": [
    "arg_min = torch.argmin(x)\n",
    "arg_min"
   ],
   "id": "cc98cb86b66f436c",
   "outputs": [
    {
     "data": {
      "text/plain": [
       "tensor(0)"
      ]
     },
     "execution_count": 53,
     "metadata": {},
     "output_type": "execute_result"
    }
   ],
   "execution_count": 53
  },
  {
   "metadata": {
    "ExecuteTime": {
     "end_time": "2024-07-20T19:58:27.670183Z",
     "start_time": "2024-07-20T19:58:26.993394Z"
    }
   },
   "cell_type": "code",
   "source": [
    "mean_x = torch.mean(x.float(), dim=0)\n",
    "mean_x"
   ],
   "id": "8103d2369017d8e6",
   "outputs": [
    {
     "data": {
      "text/plain": [
       "tensor(2.)"
      ]
     },
     "execution_count": 54,
     "metadata": {},
     "output_type": "execute_result"
    }
   ],
   "execution_count": 54
  },
  {
   "metadata": {
    "ExecuteTime": {
     "end_time": "2024-07-20T19:58:44.619033Z",
     "start_time": "2024-07-20T19:58:44.489057Z"
    }
   },
   "cell_type": "code",
   "source": [
    "z = torch.eq(x, y)\n",
    "z"
   ],
   "id": "7e2c38700520ebf1",
   "outputs": [
    {
     "data": {
      "text/plain": [
       "tensor([False, False, False])"
      ]
     },
     "execution_count": 55,
     "metadata": {},
     "output_type": "execute_result"
    }
   ],
   "execution_count": 55
  },
  {
   "metadata": {
    "ExecuteTime": {
     "end_time": "2024-07-20T20:00:11.458630Z",
     "start_time": "2024-07-20T20:00:11.448458Z"
    }
   },
   "cell_type": "code",
   "source": [
    "# sort \n",
    "sorted_y, indices = torch.sort(y, dim=0, descending=False)\n",
    "sorted_y, indices"
   ],
   "id": "f7863de115261dfa",
   "outputs": [
    {
     "data": {
      "text/plain": [
       "(tensor([7, 8, 9]), tensor([2, 1, 0]))"
      ]
     },
     "execution_count": 57,
     "metadata": {},
     "output_type": "execute_result"
    }
   ],
   "execution_count": 57
  },
  {
   "metadata": {
    "ExecuteTime": {
     "end_time": "2024-07-20T20:01:34.819323Z",
     "start_time": "2024-07-20T20:01:34.548132Z"
    }
   },
   "cell_type": "code",
   "source": [
    "z = torch.clamp(x, min=0, max=10) # clamp every values less than 0 to zero and any value > 10 to 10\n",
    "z"
   ],
   "id": "a6319acf930af8bd",
   "outputs": [
    {
     "data": {
      "text/plain": [
       "tensor([1, 2, 3])"
      ]
     },
     "execution_count": 58,
     "metadata": {},
     "output_type": "execute_result"
    }
   ],
   "execution_count": 58
  },
  {
   "metadata": {
    "ExecuteTime": {
     "end_time": "2024-07-20T20:02:16.891036Z",
     "start_time": "2024-07-20T20:02:16.456446Z"
    }
   },
   "cell_type": "code",
   "source": [
    "x= torch.tensor([1,0,1,1,1], dtype=torch.bool)\n",
    "z = torch.any(x)\n",
    "z"
   ],
   "id": "e3416d04fca30686",
   "outputs": [
    {
     "data": {
      "text/plain": [
       "tensor(True)"
      ]
     },
     "execution_count": 59,
     "metadata": {},
     "output_type": "execute_result"
    }
   ],
   "execution_count": 59
  },
  {
   "metadata": {
    "ExecuteTime": {
     "end_time": "2024-07-20T20:02:25.598766Z",
     "start_time": "2024-07-20T20:02:25.466857Z"
    }
   },
   "cell_type": "code",
   "source": [
    "z = torch.all(x)\n",
    "z"
   ],
   "id": "fb9bca4e8e2ffc8a",
   "outputs": [
    {
     "data": {
      "text/plain": [
       "tensor(False)"
      ]
     },
     "execution_count": 60,
     "metadata": {},
     "output_type": "execute_result"
    }
   ],
   "execution_count": 60
  },
  {
   "metadata": {},
   "cell_type": "markdown",
   "source": "# Indexing",
   "id": "f7782b8d8bae6bbc"
  },
  {
   "metadata": {
    "ExecuteTime": {
     "end_time": "2024-07-20T20:04:19.863881Z",
     "start_time": "2024-07-20T20:04:19.857046Z"
    }
   },
   "cell_type": "code",
   "source": [
    "batch_size = 10\n",
    "features = 25\n",
    "x= torch.rand((batch_size, features))\n",
    "x[0].shape"
   ],
   "id": "9fecf58adb9f4d7",
   "outputs": [
    {
     "data": {
      "text/plain": [
       "torch.Size([25])"
      ]
     },
     "execution_count": 64,
     "metadata": {},
     "output_type": "execute_result"
    }
   ],
   "execution_count": 64
  },
  {
   "metadata": {
    "ExecuteTime": {
     "end_time": "2024-07-20T20:04:40.705617Z",
     "start_time": "2024-07-20T20:04:40.607247Z"
    }
   },
   "cell_type": "code",
   "source": "x[:, 0].shape",
   "id": "45a2d26e8aad9e80",
   "outputs": [
    {
     "data": {
      "text/plain": [
       "torch.Size([10])"
      ]
     },
     "execution_count": 65,
     "metadata": {},
     "output_type": "execute_result"
    }
   ],
   "execution_count": 65
  },
  {
   "metadata": {
    "ExecuteTime": {
     "end_time": "2024-07-20T20:05:25.795370Z",
     "start_time": "2024-07-20T20:05:25.784214Z"
    }
   },
   "cell_type": "code",
   "source": [
    "# get the third example\n",
    "x[2, 0:10]"
   ],
   "id": "e5172b4569d83fae",
   "outputs": [
    {
     "data": {
      "text/plain": [
       "tensor([0.9856, 0.8409, 0.5737, 0.6209, 0.6445, 0.1906, 0.7265, 0.0268, 0.2684,\n",
       "        0.0730])"
      ]
     },
     "execution_count": 67,
     "metadata": {},
     "output_type": "execute_result"
    }
   ],
   "execution_count": 67
  },
  {
   "metadata": {
    "ExecuteTime": {
     "end_time": "2024-07-20T20:05:45.455067Z",
     "start_time": "2024-07-20T20:05:45.290502Z"
    }
   },
   "cell_type": "code",
   "source": "x[0,0] = 100",
   "id": "30d37cbdeb78cbe2",
   "outputs": [],
   "execution_count": 68
  },
  {
   "metadata": {
    "ExecuteTime": {
     "end_time": "2024-07-20T20:06:31.363933Z",
     "start_time": "2024-07-20T20:06:31.177737Z"
    }
   },
   "cell_type": "code",
   "source": [
    "# fancy indexing\n",
    "x = torch.arange(10)\n",
    "indices = [2, 5, 8]\n",
    "x[indices]"
   ],
   "id": "b92852b542ed1aa4",
   "outputs": [
    {
     "data": {
      "text/plain": [
       "tensor([2, 5, 8])"
      ]
     },
     "execution_count": 69,
     "metadata": {},
     "output_type": "execute_result"
    }
   ],
   "execution_count": 69
  },
  {
   "metadata": {
    "ExecuteTime": {
     "end_time": "2024-07-20T20:08:06.009782Z",
     "start_time": "2024-07-20T20:08:06.002018Z"
    }
   },
   "cell_type": "code",
   "source": [
    "x = torch.rand((3,5))\n",
    "rows = torch.tensor([1,0])\n",
    "cols = torch.tensor([4,0])\n",
    "x[rows, cols].shape"
   ],
   "id": "9acdc3dfb49047a3",
   "outputs": [
    {
     "data": {
      "text/plain": [
       "torch.Size([2])"
      ]
     },
     "execution_count": 72,
     "metadata": {},
     "output_type": "execute_result"
    }
   ],
   "execution_count": 72
  },
  {
   "metadata": {
    "ExecuteTime": {
     "end_time": "2024-07-20T20:09:51.278642Z",
     "start_time": "2024-07-20T20:09:51.269408Z"
    }
   },
   "cell_type": "code",
   "source": [
    "x = torch.arange(10)\n",
    "x[(x < 2) | (x > 8)]"
   ],
   "id": "1def31d37a06c176",
   "outputs": [
    {
     "data": {
      "text/plain": [
       "tensor([0, 1, 9])"
      ]
     },
     "execution_count": 76,
     "metadata": {},
     "output_type": "execute_result"
    }
   ],
   "execution_count": 76
  },
  {
   "metadata": {
    "ExecuteTime": {
     "end_time": "2024-07-20T20:10:27.107286Z",
     "start_time": "2024-07-20T20:10:26.952581Z"
    }
   },
   "cell_type": "code",
   "source": "x[x.remainder(2) == 0]",
   "id": "afab926a4c6a462d",
   "outputs": [
    {
     "data": {
      "text/plain": [
       "tensor([0, 2, 4, 6, 8])"
      ]
     },
     "execution_count": 77,
     "metadata": {},
     "output_type": "execute_result"
    }
   ],
   "execution_count": 77
  },
  {
   "metadata": {
    "ExecuteTime": {
     "end_time": "2024-07-20T20:11:26.196689Z",
     "start_time": "2024-07-20T20:11:25.825377Z"
    }
   },
   "cell_type": "code",
   "source": [
    "# other useful operations\n",
    "torch.where(x > 5, x, x*2)"
   ],
   "id": "1837aba70db52ce9",
   "outputs": [
    {
     "data": {
      "text/plain": [
       "tensor([ 0,  2,  4,  6,  8, 10,  6,  7,  8,  9])"
      ]
     },
     "execution_count": 78,
     "metadata": {},
     "output_type": "execute_result"
    }
   ],
   "execution_count": 78
  },
  {
   "metadata": {
    "ExecuteTime": {
     "end_time": "2024-07-20T20:12:33.227256Z",
     "start_time": "2024-07-20T20:12:33.129437Z"
    }
   },
   "cell_type": "code",
   "source": "torch.tensor([0,0,1,2,2,3,4]).unique()",
   "id": "1cc175a130486e28",
   "outputs": [
    {
     "data": {
      "text/plain": [
       "tensor([0, 1, 2, 3, 4])"
      ]
     },
     "execution_count": 79,
     "metadata": {},
     "output_type": "execute_result"
    }
   ],
   "execution_count": 79
  },
  {
   "metadata": {
    "ExecuteTime": {
     "end_time": "2024-07-20T20:12:48.158853Z",
     "start_time": "2024-07-20T20:12:48.150491Z"
    }
   },
   "cell_type": "code",
   "source": "x.ndimension() # check the dimensions",
   "id": "9d4e90fc927a3a99",
   "outputs": [
    {
     "data": {
      "text/plain": [
       "1"
      ]
     },
     "execution_count": 80,
     "metadata": {},
     "output_type": "execute_result"
    }
   ],
   "execution_count": 80
  },
  {
   "metadata": {
    "ExecuteTime": {
     "end_time": "2024-07-20T20:13:44.629691Z",
     "start_time": "2024-07-20T20:13:44.624715Z"
    }
   },
   "cell_type": "code",
   "source": [
    "# count the number in x\n",
    "x.numel()"
   ],
   "id": "53b624c55eab86ee",
   "outputs": [
    {
     "data": {
      "text/plain": [
       "10"
      ]
     },
     "execution_count": 81,
     "metadata": {},
     "output_type": "execute_result"
    }
   ],
   "execution_count": 81
  },
  {
   "metadata": {},
   "cell_type": "markdown",
   "source": "# Reshape",
   "id": "af807f9736635093"
  },
  {
   "metadata": {
    "ExecuteTime": {
     "end_time": "2024-07-20T20:14:24.733751Z",
     "start_time": "2024-07-20T20:14:24.725648Z"
    }
   },
   "cell_type": "code",
   "source": [
    "x = torch.arange(9)\n",
    "x_3x3 = x.view(3,3) # view acts on contiguous tensors - saved in memory with pointers\n",
    "x_3x3.shape"
   ],
   "id": "62d490d557d928b",
   "outputs": [
    {
     "data": {
      "text/plain": [
       "torch.Size([3, 3])"
      ]
     },
     "execution_count": 82,
     "metadata": {},
     "output_type": "execute_result"
    }
   ],
   "execution_count": 82
  },
  {
   "metadata": {
    "ExecuteTime": {
     "end_time": "2024-07-20T20:14:49.443480Z",
     "start_time": "2024-07-20T20:14:49.433519Z"
    }
   },
   "cell_type": "code",
   "source": [
    "x_3x3 = x.reshape(3,3)\n",
    "x_3x3.shape"
   ],
   "id": "7d97efa488c05ca3",
   "outputs": [
    {
     "data": {
      "text/plain": [
       "torch.Size([3, 3])"
      ]
     },
     "execution_count": 84,
     "metadata": {},
     "output_type": "execute_result"
    }
   ],
   "execution_count": 84
  },
  {
   "metadata": {
    "ExecuteTime": {
     "end_time": "2024-07-20T20:16:04.769169Z",
     "start_time": "2024-07-20T20:16:04.381318Z"
    }
   },
   "cell_type": "code",
   "source": [
    "y = x_3x3.t() # a long vector\n",
    "y # view would not work on this, reshape works here better\n",
    "# or you can use contiguous.view(9) to achieve the same effect"
   ],
   "id": "8fa67e303226a2a9",
   "outputs": [
    {
     "data": {
      "text/plain": [
       "tensor([[0, 3, 6],\n",
       "        [1, 4, 7],\n",
       "        [2, 5, 8]])"
      ]
     },
     "execution_count": 85,
     "metadata": {},
     "output_type": "execute_result"
    }
   ],
   "execution_count": 85
  },
  {
   "metadata": {
    "ExecuteTime": {
     "end_time": "2024-07-20T20:19:24.153856Z",
     "start_time": "2024-07-20T20:19:24.143589Z"
    }
   },
   "cell_type": "code",
   "source": [
    "x1= torch.rand((2,5))\n",
    "x2=torch.rand((2,5))\n",
    "\n",
    "torch.cat((x1,x2), dim=0).shape"
   ],
   "id": "5ab19f0b73e56ba0",
   "outputs": [
    {
     "data": {
      "text/plain": [
       "torch.Size([4, 5])"
      ]
     },
     "execution_count": 86,
     "metadata": {},
     "output_type": "execute_result"
    }
   ],
   "execution_count": 86
  },
  {
   "metadata": {
    "ExecuteTime": {
     "end_time": "2024-07-20T20:19:27.978126Z",
     "start_time": "2024-07-20T20:19:27.940310Z"
    }
   },
   "cell_type": "code",
   "source": "torch.cat((x1,x2), dim=1).shape",
   "id": "abf6dc961f695c1b",
   "outputs": [
    {
     "data": {
      "text/plain": [
       "torch.Size([2, 10])"
      ]
     },
     "execution_count": 87,
     "metadata": {},
     "output_type": "execute_result"
    }
   ],
   "execution_count": 87
  },
  {
   "metadata": {
    "ExecuteTime": {
     "end_time": "2024-07-20T20:19:52.765283Z",
     "start_time": "2024-07-20T20:19:52.759228Z"
    }
   },
   "cell_type": "code",
   "source": [
    "z = x1.view(-1) # unroll it or flatten it\n",
    "z.shape"
   ],
   "id": "304c67c54adb078",
   "outputs": [
    {
     "data": {
      "text/plain": [
       "torch.Size([10])"
      ]
     },
     "execution_count": 88,
     "metadata": {},
     "output_type": "execute_result"
    }
   ],
   "execution_count": 88
  },
  {
   "metadata": {
    "ExecuteTime": {
     "end_time": "2024-07-20T20:22:09.121327Z",
     "start_time": "2024-07-20T20:22:09.113251Z"
    }
   },
   "cell_type": "code",
   "source": [
    "batch = 64\n",
    "x = torch.rand((batch, 2,5))\n",
    "z = x.view(batch, -1) # keep batch and flatten the rest\n",
    "z.shape"
   ],
   "id": "98ece25daa62cb4a",
   "outputs": [
    {
     "data": {
      "text/plain": [
       "torch.Size([64, 10])"
      ]
     },
     "execution_count": 92,
     "metadata": {},
     "output_type": "execute_result"
    }
   ],
   "execution_count": 92
  },
  {
   "metadata": {
    "ExecuteTime": {
     "end_time": "2024-07-20T20:22:05.473196Z",
     "start_time": "2024-07-20T20:22:05.461757Z"
    }
   },
   "cell_type": "code",
   "source": [
    "# keep the batch and switch the axis\n",
    "z = x.permute(0,2,1) # special case of transpose with more dimensions\n",
    "z.shape"
   ],
   "id": "6f6f6752056eb476",
   "outputs": [
    {
     "data": {
      "text/plain": [
       "torch.Size([64, 5, 2])"
      ]
     },
     "execution_count": 91,
     "metadata": {},
     "output_type": "execute_result"
    }
   ],
   "execution_count": 91
  },
  {
   "metadata": {
    "ExecuteTime": {
     "end_time": "2024-07-20T20:22:36.897520Z",
     "start_time": "2024-07-20T20:22:36.885921Z"
    }
   },
   "cell_type": "code",
   "source": [
    "x = torch.arange(10)\n",
    "x.unsqueeze(0).shape"
   ],
   "id": "15b8392c30b1db71",
   "outputs": [
    {
     "data": {
      "text/plain": [
       "torch.Size([1, 10])"
      ]
     },
     "execution_count": 93,
     "metadata": {},
     "output_type": "execute_result"
    }
   ],
   "execution_count": 93
  },
  {
   "metadata": {
    "ExecuteTime": {
     "end_time": "2024-07-20T20:22:49.873625Z",
     "start_time": "2024-07-20T20:22:49.864780Z"
    }
   },
   "cell_type": "code",
   "source": "x.unsqueeze(1).shape",
   "id": "480b97a2bf115f6a",
   "outputs": [
    {
     "data": {
      "text/plain": [
       "torch.Size([10, 1])"
      ]
     },
     "execution_count": 94,
     "metadata": {},
     "output_type": "execute_result"
    }
   ],
   "execution_count": 94
  },
  {
   "metadata": {
    "ExecuteTime": {
     "end_time": "2024-07-20T20:23:19.933115Z",
     "start_time": "2024-07-20T20:23:19.918971Z"
    }
   },
   "cell_type": "code",
   "source": [
    "x = torch.arange(10).unsqueeze(0).unsqueeze(1)\n",
    "x.shape"
   ],
   "id": "e9e64b84f3f976d5",
   "outputs": [
    {
     "data": {
      "text/plain": [
       "torch.Size([1, 1, 10])"
      ]
     },
     "execution_count": 95,
     "metadata": {},
     "output_type": "execute_result"
    }
   ],
   "execution_count": 95
  },
  {
   "metadata": {
    "ExecuteTime": {
     "end_time": "2024-07-20T20:23:37.014368Z",
     "start_time": "2024-07-20T20:23:37.004311Z"
    }
   },
   "cell_type": "code",
   "source": [
    "z = x.squeeze(0)\n",
    "z.shape"
   ],
   "id": "bb40b48bb1ad2014",
   "outputs": [
    {
     "data": {
      "text/plain": [
       "torch.Size([1, 10])"
      ]
     },
     "execution_count": 96,
     "metadata": {},
     "output_type": "execute_result"
    }
   ],
   "execution_count": 96
  },
  {
   "metadata": {},
   "cell_type": "code",
   "outputs": [],
   "execution_count": null,
   "source": "",
   "id": "9dadde41f78d3d40"
  }
 ],
 "metadata": {
  "kernelspec": {
   "display_name": "Python 3",
   "language": "python",
   "name": "python3"
  },
  "language_info": {
   "codemirror_mode": {
    "name": "ipython",
    "version": 2
   },
   "file_extension": ".py",
   "mimetype": "text/x-python",
   "name": "python",
   "nbconvert_exporter": "python",
   "pygments_lexer": "ipython2",
   "version": "2.7.6"
  }
 },
 "nbformat": 4,
 "nbformat_minor": 5
}
