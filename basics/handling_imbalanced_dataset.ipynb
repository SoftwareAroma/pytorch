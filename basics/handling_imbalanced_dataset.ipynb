{
 "cells": [
  {
   "cell_type": "code",
   "execution_count": 1,
   "metadata": {},
   "outputs": [],
   "source": [
    "import torchvision.datasets as datasets\n",
    "import torch\n",
    "import torch.nn as nn\n",
    "import os\n",
    "from torch.utils.data import WeightedRandomSampler, DataLoader\n",
    "import torchvision.transforms as transforms"
   ]
  },
  {
   "cell_type": "code",
   "execution_count": 2,
   "metadata": {},
   "outputs": [],
   "source": [
    "# # # methods for dealing with imbalanced datasets\n",
    "# # 1. Oversampling\n",
    "# # 2. Class Weighting"
   ]
  },
  {
   "cell_type": "code",
   "execution_count": 3,
   "metadata": {},
   "outputs": [],
   "source": [
    "# # # class weighting\n",
    "# # # 1. calculate the class weights\n",
    "# # # loss_fn = nn.CrossEntropyLoss(weight=torch.tensor([1, 50], dtype=torch.float32))"
   ]
  },
  {
   "cell_type": "code",
   "execution_count": 4,
   "metadata": {},
   "outputs": [],
   "source": [
    "def get_loader(root_dir:str, batch_size:int) -> any:\n",
    "    my_transforms = transforms.Compose(\n",
    "        [\n",
    "            transforms.Resize((224, 224)),\n",
    "            transforms.ToTensor()\n",
    "        ]\n",
    "    )\n",
    "    # load the dataset\n",
    "    dataset = datasets.ImageFolder(root=root_dir, transform=my_transforms)\n",
    "    # create some class weight\n",
    "    class_weights: list[int] = []\n",
    "    for _, _, files in os.walk(root_dir):\n",
    "        if len(files) > 0:\n",
    "            class_weights.append(1/len(files))\n",
    "        \n",
    "    # create sample weight\n",
    "    sample_weights: list[int] = [0] * len(dataset) # each element in the list is a sample starts with this sample weight\n",
    "    for idx, (_, label) in enumerate(dataset):\n",
    "        class_weight = class_weights[label]\n",
    "        sample_weights[idx] = class_weight\n",
    "    # create a sampler to take in the sample weights\n",
    "    sampler = WeightedRandomSampler(\n",
    "        sample_weights, \n",
    "        num_samples=len(sample_weights), \n",
    "        replacement=True # set to False to see this example only once (not ideal for oversampling)\n",
    "    )\n",
    "    # create a loader to take in the sampler\n",
    "    loader = DataLoader(\n",
    "        dataset, \n",
    "        batch_size=batch_size, \n",
    "        sampler=sampler\n",
    "    )\n",
    "    return loader\n"
   ]
  },
  {
   "cell_type": "code",
   "execution_count": 5,
   "metadata": {},
   "outputs": [],
   "source": [
    "loader = get_loader(root_dir='../dataset/imbalance_data/', batch_size=8)\n"
   ]
  },
  {
   "cell_type": "code",
   "execution_count": 6,
   "metadata": {},
   "outputs": [
    {
     "name": "stdout",
     "output_type": "stream",
     "text": [
      "Num of Retrievers : 70 \n",
      "Num of Elkhounds : 70\n"
     ]
    }
   ],
   "source": [
    "num_retrievers = []\n",
    "num_elkhounds = []\n",
    "\n",
    "for epoch in range(10):\n",
    "    for data, target in loader:\n",
    "        num_retrievers.append((target == 0).sum().item())\n",
    "        num_elkhounds.append((target == 1).sum().item())\n",
    "        \n",
    "print(f\"Num of Retrievers : {len(num_retrievers)} \\nNum of Elkhounds : {len(num_elkhounds)}\")"
   ]
  },
  {
   "cell_type": "code",
   "execution_count": null,
   "metadata": {},
   "outputs": [],
   "source": []
  }
 ],
 "metadata": {
  "kernelspec": {
   "display_name": ".venv",
   "language": "python",
   "name": "python3"
  },
  "language_info": {
   "codemirror_mode": {
    "name": "ipython",
    "version": 3
   },
   "file_extension": ".py",
   "mimetype": "text/x-python",
   "name": "python",
   "nbconvert_exporter": "python",
   "pygments_lexer": "ipython3",
   "version": "3.11.9"
  }
 },
 "nbformat": 4,
 "nbformat_minor": 2
}
